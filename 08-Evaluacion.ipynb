{
 "cells": [
  {
   "cell_type": "markdown",
   "metadata": {},
   "source": [
    "**Recuerde no agregar o quitar celdas en este notebook, ni modificar su tipo. Si lo hace, el sistema automaticamente lo calificará con cero punto cero (0.0)**"
   ]
  },
  {
   "cell_type": "markdown",
   "metadata": {},
   "source": [
    "Ordene el archivo por letra y valor (3ra columna)."
   ]
  },
  {
   "cell_type": "code",
   "execution_count": 3,
   "metadata": {
    "collapsed": false
   },
   "outputs": [
    {
     "name": "stdout",
     "output_type": "stream",
     "text": [
      "Overwriting input.txt\n"
     ]
    }
   ],
   "source": [
    "%%writefile input.txt\n",
    "B   1999-08-28   14\n",
    "E   1999-12-06   12\n",
    "E   1993-07-21   9\n",
    "C   1991-02-12   13\n",
    "E   1995-04-25   2\n",
    "A   1992-08-22   14\n",
    "B   1999-06-11   121\n",
    "E   1993-01-27   9\n",
    "E   1999-09-10   11\n",
    "E   1990-05-03   16\n",
    "E   1994-02-14   10\n",
    "A   1988-04-27   121\n",
    "A   1990-10-06   10\n",
    "E   1985-02-12   16\n",
    "E   1998-09-14   2\n",
    "B   1994-08-30   17\n",
    "A   1997-12-15   13\n",
    "B   1995-08-23   1\n",
    "B   1998-11-22   131\n",
    "B   1997-04-09   14\n",
    "E   1993-12-27   18\n",
    "E   1999-01-14   15\n",
    "A   1992-09-19   8\n",
    "B   1993-03-02   14\n",
    "B   1999-10-21   13\n",
    "A   1990-08-31   12\n",
    "C   1994-01-25   10\n",
    "E   1990-02-09   18\n",
    "A   1990-09-26   8\n",
    "A   1993-05-08   16\n",
    "B   1995-09-06   14\n",
    "E   1991-02-18   141\n",
    "A   1993-01-11   14\n",
    "A   1990-07-22   0\n",
    "C   1994-09-09   15\n",
    "C   1994-07-27   104\n",
    "D   1990-10-10   15\n",
    "A   1990-09-05   11\n",
    "B   1991-10-01   9\n",
    "A   1994-10-25   13"
   ]
  },
  {
   "cell_type": "markdown",
   "metadata": {},
   "source": [
    "## Mapper"
   ]
  },
  {
   "cell_type": "code",
   "execution_count": 1,
   "metadata": {
    "collapsed": false
   },
   "outputs": [
    {
     "name": "stdout",
     "output_type": "stream",
     "text": [
      "Overwriting mapper.py\n"
     ]
    }
   ],
   "source": [
    "%%writefile mapper.py\n",
    "#! /usr/bin/env python\n",
    "\n",
    "import sys\n",
    "\n",
    "class Mapper:\n",
    "\n",
    "    def __init__(self, stream):\n",
    "        self.stream  = stream\n",
    "    \n",
    "    def emit(self, key, value=1):\n",
    "        sys.stdout.write('{}\\t{}\\n'.format(key, value))\n",
    "    \n",
    "    def map(self):\n",
    "        for palabra in self:            \n",
    "            aux_split = palabra.split(\"   \")\n",
    "            letra = aux_split[0].strip()\n",
    "            valor = aux_split[2].strip().zfill(3)\n",
    "            clave = '{},{}'.format(letra, valor)\n",
    "            self.emit(clave,palabra)\n",
    "\n",
    "    def __iter__(self):\n",
    "        for linea in self.stream:\n",
    "            yield linea[:-1]\n",
    "            \n",
    "if __name__ == \"__main__\": \n",
    "    mapper = Mapper(sys.stdin)\n",
    "    mapper.map()  "
   ]
  },
  {
   "cell_type": "markdown",
   "metadata": {},
   "source": [
    "## Reducer"
   ]
  },
  {
   "cell_type": "code",
   "execution_count": 2,
   "metadata": {
    "collapsed": false
   },
   "outputs": [
    {
     "name": "stdout",
     "output_type": "stream",
     "text": [
      "Overwriting reducer.py\n"
     ]
    }
   ],
   "source": [
    "%%writefile reducer.py\n",
    "#!/usr/bin/env python\n",
    "\n",
    "import sys\n",
    "\n",
    "class Reducer:\n",
    "    \n",
    "    def __init__(self, stream):\n",
    "        self.stream  = stream\n",
    "    \n",
    "    def emit(self, value):\n",
    "        if value != '' and value != '\\t' and value != '\\n' and value != '\\t\\n':\n",
    "            sys.stdout.write('{}\\n'.format(value))\n",
    "    \n",
    "    def reduce(self):\n",
    "        for key, val in self:\n",
    "            self.emit(val)\n",
    "    \n",
    "    def __iter__(self):\n",
    "        for line in self.stream:\n",
    "            key, val = line.split('\\t')\n",
    "            yield(key,val[:-1])\n",
    "\n",
    "if __name__ == '__main__': \n",
    "    reducer = Reducer(sys.stdin)\n",
    "    reducer.reduce()"
   ]
  },
  {
   "cell_type": "markdown",
   "metadata": {},
   "source": [
    "## Ejecución"
   ]
  },
  {
   "cell_type": "code",
   "execution_count": 4,
   "metadata": {
    "collapsed": false
   },
   "outputs": [
    {
     "name": "stdout",
     "output_type": "stream",
     "text": [
      "A   1990-07-22   0\t\n",
      "A   1990-09-26   8\t\n",
      "A   1992-09-19   8\t\n",
      "A   1990-10-06   10\t\n",
      "A   1990-09-05   11\t\n",
      "A   1990-08-31   12\t\n",
      "A   1997-12-15   13\t\n",
      "A   1994-10-25   13\t\n",
      "A   1993-01-11   14\t\n",
      "A   1992-08-22   14\t\n",
      "A   1993-05-08   16\t\n",
      "A   1988-04-27   121\t\n",
      "B   1995-08-23   1\t\n",
      "B   1991-10-01   9\t\n",
      "B   1999-10-21   13\t\n",
      "B   1997-04-09   14\t\n",
      "B   1995-09-06   14\t\n",
      "B   1993-03-02   14\t\n",
      "B   1999-08-28   14\t\n",
      "B   1994-08-30   17\t\n",
      "B   1999-06-11   121\t\n",
      "B   1998-11-22   131\t\n",
      "C   1994-01-25   10\t\n",
      "C   1991-02-12   13\t\n",
      "C   1994-09-09   15\t\n",
      "C   1994-07-27   104\t\n",
      "D   1990-10-10   15\t\n",
      "E   1998-09-14   2\t\n",
      "E   1995-04-25   2\t\n",
      "E   1993-07-21   9\t\n",
      "E   1993-01-27   9\t\n",
      "E   1994-02-14   10\t\n",
      "E   1999-09-10   11\t\n",
      "E   1999-12-06   12\t\n",
      "E   1999-01-14   15\t\n",
      "E   1990-05-03   16\t\n",
      "E   1985-02-12   16\t\n",
      "E   1990-02-09   18\t\n",
      "E   1993-12-27   18\t\n",
      "E   1991-02-18   141\t\n"
     ]
    }
   ],
   "source": [
    "%%bash\n",
    "rm -rf output\n",
    "STREAM=$HADOOP_HOME/share/hadoop/tools/lib/hadoop-streaming-*.jar\n",
    "chmod +x mapper.py\n",
    "chmod +x reducer.py\n",
    "hadoop jar $STREAM -input input.txt -output output  -mapper mapper.py -reducer reducer.py\n",
    "cat output/part-00000"
   ]
  },
  {
   "cell_type": "code",
   "execution_count": null,
   "metadata": {
    "collapsed": true
   },
   "outputs": [],
   "source": [
    "!rm -rf mapper.py reducer.py output input.txt"
   ]
  },
  {
   "cell_type": "markdown",
   "metadata": {},
   "source": [
    "---"
   ]
  },
  {
   "cell_type": "markdown",
   "metadata": {},
   "source": [
    "Para realizar la evaluación automática de este libro:\n",
    "\n",
    "* Abra un Terminal.\n",
    "* Asegurece que esat en la misma carpeta que contiene este notebook.\n",
    "* Salve el notebook.\n",
    "* Ejecute el siguiente comando:\n",
    "\n",
    "      ./gradetool 08-Taller.ipynb"
   ]
  },
  {
   "cell_type": "markdown",
   "metadata": {},
   "source": [
    "---"
   ]
  }
 ],
 "metadata": {
  "anaconda-cloud": {},
  "kernelspec": {
   "display_name": "Python [default]",
   "language": "python",
   "name": "python3"
  },
  "language_info": {
   "codemirror_mode": {
    "name": "ipython",
    "version": 3
   },
   "file_extension": ".py",
   "mimetype": "text/x-python",
   "name": "python",
   "nbconvert_exporter": "python",
   "pygments_lexer": "ipython3",
   "version": "3.5.2"
  },
  "toc": {
   "base_numbering": 1,
   "nav_menu": {},
   "number_sections": false,
   "sideBar": true,
   "skip_h1_title": true,
   "title_cell": "Table of Contents",
   "title_sidebar": "Contents",
   "toc_cell": false,
   "toc_position": {},
   "toc_section_display": true,
   "toc_window_display": true
  },
  "toc-autonumbering": false
 },
 "nbformat": 4,
 "nbformat_minor": 2
}
